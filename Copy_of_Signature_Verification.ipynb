{
  "metadata": {
    "kernelspec": {
      "language": "python",
      "display_name": "Python 3",
      "name": "python3"
    },
    "language_info": {
      "pygments_lexer": "ipython3",
      "nbconvert_exporter": "python",
      "version": "3.6.4",
      "file_extension": ".py",
      "codemirror_mode": {
        "name": "ipython",
        "version": 3
      },
      "name": "python",
      "mimetype": "text/x-python"
    },
    "colab": {
      "provenance": [],
      "history_visible": true,
      "include_colab_link": true
    }
  },
  "nbformat_minor": 0,
  "nbformat": 4,
  "cells": [
    {
      "cell_type": "markdown",
      "metadata": {
        "id": "view-in-github",
        "colab_type": "text"
      },
      "source": [
        "<a href=\"https://colab.research.google.com/github/bbnaik2003/MiniProjectTripit/blob/main/Copy_of_Signature_Verification.ipynb\" target=\"_parent\"><img src=\"https://colab.research.google.com/assets/colab-badge.svg\" alt=\"Open In Colab\"/></a>"
      ]
    },
    {
      "source": [
        "# IMPORTANT: RUN THIS CELL IN ORDER TO IMPORT YOUR KAGGLE DATA SOURCES,\n",
        "# THEN FEEL FREE TO DELETE THIS CELL.\n",
        "# NOTE: THIS NOTEBOOK ENVIRONMENT DIFFERS FROM KAGGLE'S PYTHON\n",
        "# ENVIRONMENT SO THERE MAY BE MISSING LIBRARIES USED BY YOUR\n",
        "# NOTEBOOK.\n",
        "import kagglehub\n",
        "divyanshrai_handwritten_signatures_path = kagglehub.dataset_download('divyanshrai/handwritten-signatures')\n",
        "tienen_handwritten_signature_verification_path = kagglehub.dataset_download('tienen/handwritten-signature-verification')\n",
        "\n",
        "print('Data source import complete.')\n"
      ],
      "metadata": {
        "id": "3Yizu4j2o-yP",
        "colab": {
          "base_uri": "https://localhost:8080/"
        },
        "outputId": "16814d04-9ed1-41d7-aabe-b9ccd490745a"
      },
      "cell_type": "code",
      "outputs": [
        {
          "output_type": "stream",
          "name": "stdout",
          "text": [
            "Downloading from https://www.kaggle.com/api/v1/datasets/download/tienen/handwritten-signature-verification?dataset_version_number=8...\n"
          ]
        },
        {
          "output_type": "stream",
          "name": "stderr",
          "text": [
            "100%|██████████| 2.10G/2.10G [00:29<00:00, 77.2MB/s]"
          ]
        },
        {
          "output_type": "stream",
          "name": "stdout",
          "text": [
            "Extracting files...\n"
          ]
        },
        {
          "output_type": "stream",
          "name": "stderr",
          "text": [
            "\n"
          ]
        },
        {
          "output_type": "stream",
          "name": "stdout",
          "text": [
            "Data source import complete.\n"
          ]
        }
      ],
      "execution_count": 1
    },
    {
      "cell_type": "markdown",
      "source": [
        "# CONVOLUTIONAL NEURAL NETWORK MODEL"
      ],
      "metadata": {
        "id": "Au4P_H_jo-yR"
      }
    },
    {
      "cell_type": "code",
      "source": [
        "from keras.models import Sequential\n",
        "from keras.layers import Conv2D, MaxPooling2D, Flatten, Dense, Dropout\n",
        "\n",
        "# define input shape for the network\n",
        "input_shape = (224, 224, 3)\n",
        "\n",
        "# create a sequential model\n",
        "model = Sequential()\n",
        "\n",
        "# add convolutional layers with pooling and dropout\n",
        "model.add(Conv2D(32, (3, 3), activation='relu', input_shape=input_shape))\n",
        "model.add(MaxPooling2D((2, 2)))\n",
        "model.add(Dropout(0.25))\n",
        "model.add(Conv2D(64, (3, 3), activation='relu'))\n",
        "model.add(MaxPooling2D((2, 2)))\n",
        "model.add(Dropout(0.25))\n",
        "\n",
        "# flatten the output and add dense layers with dropout\n",
        "model.add(Flatten())\n",
        "model.add(Dense(128, activation='relu'))\n",
        "model.add(Dropout(0.5))\n",
        "model.add(Dense(1, activation='sigmoid'))\n",
        "\n",
        "# compile the model\n",
        "model.compile(optimizer='rmsprop', loss='binary_crossentropy', metrics=['accuracy'])\n",
        "\n",
        "# print the model summary\n",
        "model.summary()\n"
      ],
      "metadata": {
        "_uuid": "8f2839f25d086af736a60e9eeb907d3b93b6e0e5",
        "_cell_guid": "b1076dfc-b9ad-4769-8c92-a6c4dae69d19",
        "execution": {
          "iopub.status.busy": "2023-04-25T14:23:31.708929Z",
          "iopub.execute_input": "2023-04-25T14:23:31.709279Z",
          "iopub.status.idle": "2023-04-25T14:23:41.172188Z",
          "shell.execute_reply.started": "2023-04-25T14:23:31.709245Z",
          "shell.execute_reply": "2023-04-25T14:23:41.170888Z"
        },
        "trusted": true,
        "id": "lyxiV8Uno-yU",
        "colab": {
          "base_uri": "https://localhost:8080/",
          "height": 510
        },
        "outputId": "89476347-d5b8-4d99-a905-c8c08cb05a49"
      },
      "execution_count": 2,
      "outputs": [
        {
          "output_type": "stream",
          "name": "stderr",
          "text": [
            "/usr/local/lib/python3.11/dist-packages/keras/src/layers/convolutional/base_conv.py:107: UserWarning: Do not pass an `input_shape`/`input_dim` argument to a layer. When using Sequential models, prefer using an `Input(shape)` object as the first layer in the model instead.\n",
            "  super().__init__(activity_regularizer=activity_regularizer, **kwargs)\n"
          ]
        },
        {
          "output_type": "display_data",
          "data": {
            "text/plain": [
              "\u001b[1mModel: \"sequential\"\u001b[0m\n"
            ],
            "text/html": [
              "<pre style=\"white-space:pre;overflow-x:auto;line-height:normal;font-family:Menlo,'DejaVu Sans Mono',consolas,'Courier New',monospace\"><span style=\"font-weight: bold\">Model: \"sequential\"</span>\n",
              "</pre>\n"
            ]
          },
          "metadata": {}
        },
        {
          "output_type": "display_data",
          "data": {
            "text/plain": [
              "┏━━━━━━━━━━━━━━━━━━━━━━━━━━━━━━━━━┳━━━━━━━━━━━━━━━━━━━━━━━━┳━━━━━━━━━━━━━━━┓\n",
              "┃\u001b[1m \u001b[0m\u001b[1mLayer (type)                   \u001b[0m\u001b[1m \u001b[0m┃\u001b[1m \u001b[0m\u001b[1mOutput Shape          \u001b[0m\u001b[1m \u001b[0m┃\u001b[1m \u001b[0m\u001b[1m      Param #\u001b[0m\u001b[1m \u001b[0m┃\n",
              "┡━━━━━━━━━━━━━━━━━━━━━━━━━━━━━━━━━╇━━━━━━━━━━━━━━━━━━━━━━━━╇━━━━━━━━━━━━━━━┩\n",
              "│ conv2d (\u001b[38;5;33mConv2D\u001b[0m)                 │ (\u001b[38;5;45mNone\u001b[0m, \u001b[38;5;34m222\u001b[0m, \u001b[38;5;34m222\u001b[0m, \u001b[38;5;34m32\u001b[0m)   │           \u001b[38;5;34m896\u001b[0m │\n",
              "├─────────────────────────────────┼────────────────────────┼───────────────┤\n",
              "│ max_pooling2d (\u001b[38;5;33mMaxPooling2D\u001b[0m)    │ (\u001b[38;5;45mNone\u001b[0m, \u001b[38;5;34m111\u001b[0m, \u001b[38;5;34m111\u001b[0m, \u001b[38;5;34m32\u001b[0m)   │             \u001b[38;5;34m0\u001b[0m │\n",
              "├─────────────────────────────────┼────────────────────────┼───────────────┤\n",
              "│ dropout (\u001b[38;5;33mDropout\u001b[0m)               │ (\u001b[38;5;45mNone\u001b[0m, \u001b[38;5;34m111\u001b[0m, \u001b[38;5;34m111\u001b[0m, \u001b[38;5;34m32\u001b[0m)   │             \u001b[38;5;34m0\u001b[0m │\n",
              "├─────────────────────────────────┼────────────────────────┼───────────────┤\n",
              "│ conv2d_1 (\u001b[38;5;33mConv2D\u001b[0m)               │ (\u001b[38;5;45mNone\u001b[0m, \u001b[38;5;34m109\u001b[0m, \u001b[38;5;34m109\u001b[0m, \u001b[38;5;34m64\u001b[0m)   │        \u001b[38;5;34m18,496\u001b[0m │\n",
              "├─────────────────────────────────┼────────────────────────┼───────────────┤\n",
              "│ max_pooling2d_1 (\u001b[38;5;33mMaxPooling2D\u001b[0m)  │ (\u001b[38;5;45mNone\u001b[0m, \u001b[38;5;34m54\u001b[0m, \u001b[38;5;34m54\u001b[0m, \u001b[38;5;34m64\u001b[0m)     │             \u001b[38;5;34m0\u001b[0m │\n",
              "├─────────────────────────────────┼────────────────────────┼───────────────┤\n",
              "│ dropout_1 (\u001b[38;5;33mDropout\u001b[0m)             │ (\u001b[38;5;45mNone\u001b[0m, \u001b[38;5;34m54\u001b[0m, \u001b[38;5;34m54\u001b[0m, \u001b[38;5;34m64\u001b[0m)     │             \u001b[38;5;34m0\u001b[0m │\n",
              "├─────────────────────────────────┼────────────────────────┼───────────────┤\n",
              "│ flatten (\u001b[38;5;33mFlatten\u001b[0m)               │ (\u001b[38;5;45mNone\u001b[0m, \u001b[38;5;34m186624\u001b[0m)         │             \u001b[38;5;34m0\u001b[0m │\n",
              "├─────────────────────────────────┼────────────────────────┼───────────────┤\n",
              "│ dense (\u001b[38;5;33mDense\u001b[0m)                   │ (\u001b[38;5;45mNone\u001b[0m, \u001b[38;5;34m128\u001b[0m)            │    \u001b[38;5;34m23,888,000\u001b[0m │\n",
              "├─────────────────────────────────┼────────────────────────┼───────────────┤\n",
              "│ dropout_2 (\u001b[38;5;33mDropout\u001b[0m)             │ (\u001b[38;5;45mNone\u001b[0m, \u001b[38;5;34m128\u001b[0m)            │             \u001b[38;5;34m0\u001b[0m │\n",
              "├─────────────────────────────────┼────────────────────────┼───────────────┤\n",
              "│ dense_1 (\u001b[38;5;33mDense\u001b[0m)                 │ (\u001b[38;5;45mNone\u001b[0m, \u001b[38;5;34m1\u001b[0m)              │           \u001b[38;5;34m129\u001b[0m │\n",
              "└─────────────────────────────────┴────────────────────────┴───────────────┘\n"
            ],
            "text/html": [
              "<pre style=\"white-space:pre;overflow-x:auto;line-height:normal;font-family:Menlo,'DejaVu Sans Mono',consolas,'Courier New',monospace\">┏━━━━━━━━━━━━━━━━━━━━━━━━━━━━━━━━━┳━━━━━━━━━━━━━━━━━━━━━━━━┳━━━━━━━━━━━━━━━┓\n",
              "┃<span style=\"font-weight: bold\"> Layer (type)                    </span>┃<span style=\"font-weight: bold\"> Output Shape           </span>┃<span style=\"font-weight: bold\">       Param # </span>┃\n",
              "┡━━━━━━━━━━━━━━━━━━━━━━━━━━━━━━━━━╇━━━━━━━━━━━━━━━━━━━━━━━━╇━━━━━━━━━━━━━━━┩\n",
              "│ conv2d (<span style=\"color: #0087ff; text-decoration-color: #0087ff\">Conv2D</span>)                 │ (<span style=\"color: #00d7ff; text-decoration-color: #00d7ff\">None</span>, <span style=\"color: #00af00; text-decoration-color: #00af00\">222</span>, <span style=\"color: #00af00; text-decoration-color: #00af00\">222</span>, <span style=\"color: #00af00; text-decoration-color: #00af00\">32</span>)   │           <span style=\"color: #00af00; text-decoration-color: #00af00\">896</span> │\n",
              "├─────────────────────────────────┼────────────────────────┼───────────────┤\n",
              "│ max_pooling2d (<span style=\"color: #0087ff; text-decoration-color: #0087ff\">MaxPooling2D</span>)    │ (<span style=\"color: #00d7ff; text-decoration-color: #00d7ff\">None</span>, <span style=\"color: #00af00; text-decoration-color: #00af00\">111</span>, <span style=\"color: #00af00; text-decoration-color: #00af00\">111</span>, <span style=\"color: #00af00; text-decoration-color: #00af00\">32</span>)   │             <span style=\"color: #00af00; text-decoration-color: #00af00\">0</span> │\n",
              "├─────────────────────────────────┼────────────────────────┼───────────────┤\n",
              "│ dropout (<span style=\"color: #0087ff; text-decoration-color: #0087ff\">Dropout</span>)               │ (<span style=\"color: #00d7ff; text-decoration-color: #00d7ff\">None</span>, <span style=\"color: #00af00; text-decoration-color: #00af00\">111</span>, <span style=\"color: #00af00; text-decoration-color: #00af00\">111</span>, <span style=\"color: #00af00; text-decoration-color: #00af00\">32</span>)   │             <span style=\"color: #00af00; text-decoration-color: #00af00\">0</span> │\n",
              "├─────────────────────────────────┼────────────────────────┼───────────────┤\n",
              "│ conv2d_1 (<span style=\"color: #0087ff; text-decoration-color: #0087ff\">Conv2D</span>)               │ (<span style=\"color: #00d7ff; text-decoration-color: #00d7ff\">None</span>, <span style=\"color: #00af00; text-decoration-color: #00af00\">109</span>, <span style=\"color: #00af00; text-decoration-color: #00af00\">109</span>, <span style=\"color: #00af00; text-decoration-color: #00af00\">64</span>)   │        <span style=\"color: #00af00; text-decoration-color: #00af00\">18,496</span> │\n",
              "├─────────────────────────────────┼────────────────────────┼───────────────┤\n",
              "│ max_pooling2d_1 (<span style=\"color: #0087ff; text-decoration-color: #0087ff\">MaxPooling2D</span>)  │ (<span style=\"color: #00d7ff; text-decoration-color: #00d7ff\">None</span>, <span style=\"color: #00af00; text-decoration-color: #00af00\">54</span>, <span style=\"color: #00af00; text-decoration-color: #00af00\">54</span>, <span style=\"color: #00af00; text-decoration-color: #00af00\">64</span>)     │             <span style=\"color: #00af00; text-decoration-color: #00af00\">0</span> │\n",
              "├─────────────────────────────────┼────────────────────────┼───────────────┤\n",
              "│ dropout_1 (<span style=\"color: #0087ff; text-decoration-color: #0087ff\">Dropout</span>)             │ (<span style=\"color: #00d7ff; text-decoration-color: #00d7ff\">None</span>, <span style=\"color: #00af00; text-decoration-color: #00af00\">54</span>, <span style=\"color: #00af00; text-decoration-color: #00af00\">54</span>, <span style=\"color: #00af00; text-decoration-color: #00af00\">64</span>)     │             <span style=\"color: #00af00; text-decoration-color: #00af00\">0</span> │\n",
              "├─────────────────────────────────┼────────────────────────┼───────────────┤\n",
              "│ flatten (<span style=\"color: #0087ff; text-decoration-color: #0087ff\">Flatten</span>)               │ (<span style=\"color: #00d7ff; text-decoration-color: #00d7ff\">None</span>, <span style=\"color: #00af00; text-decoration-color: #00af00\">186624</span>)         │             <span style=\"color: #00af00; text-decoration-color: #00af00\">0</span> │\n",
              "├─────────────────────────────────┼────────────────────────┼───────────────┤\n",
              "│ dense (<span style=\"color: #0087ff; text-decoration-color: #0087ff\">Dense</span>)                   │ (<span style=\"color: #00d7ff; text-decoration-color: #00d7ff\">None</span>, <span style=\"color: #00af00; text-decoration-color: #00af00\">128</span>)            │    <span style=\"color: #00af00; text-decoration-color: #00af00\">23,888,000</span> │\n",
              "├─────────────────────────────────┼────────────────────────┼───────────────┤\n",
              "│ dropout_2 (<span style=\"color: #0087ff; text-decoration-color: #0087ff\">Dropout</span>)             │ (<span style=\"color: #00d7ff; text-decoration-color: #00d7ff\">None</span>, <span style=\"color: #00af00; text-decoration-color: #00af00\">128</span>)            │             <span style=\"color: #00af00; text-decoration-color: #00af00\">0</span> │\n",
              "├─────────────────────────────────┼────────────────────────┼───────────────┤\n",
              "│ dense_1 (<span style=\"color: #0087ff; text-decoration-color: #0087ff\">Dense</span>)                 │ (<span style=\"color: #00d7ff; text-decoration-color: #00d7ff\">None</span>, <span style=\"color: #00af00; text-decoration-color: #00af00\">1</span>)              │           <span style=\"color: #00af00; text-decoration-color: #00af00\">129</span> │\n",
              "└─────────────────────────────────┴────────────────────────┴───────────────┘\n",
              "</pre>\n"
            ]
          },
          "metadata": {}
        },
        {
          "output_type": "display_data",
          "data": {
            "text/plain": [
              "\u001b[1m Total params: \u001b[0m\u001b[38;5;34m23,907,521\u001b[0m (91.20 MB)\n"
            ],
            "text/html": [
              "<pre style=\"white-space:pre;overflow-x:auto;line-height:normal;font-family:Menlo,'DejaVu Sans Mono',consolas,'Courier New',monospace\"><span style=\"font-weight: bold\"> Total params: </span><span style=\"color: #00af00; text-decoration-color: #00af00\">23,907,521</span> (91.20 MB)\n",
              "</pre>\n"
            ]
          },
          "metadata": {}
        },
        {
          "output_type": "display_data",
          "data": {
            "text/plain": [
              "\u001b[1m Trainable params: \u001b[0m\u001b[38;5;34m23,907,521\u001b[0m (91.20 MB)\n"
            ],
            "text/html": [
              "<pre style=\"white-space:pre;overflow-x:auto;line-height:normal;font-family:Menlo,'DejaVu Sans Mono',consolas,'Courier New',monospace\"><span style=\"font-weight: bold\"> Trainable params: </span><span style=\"color: #00af00; text-decoration-color: #00af00\">23,907,521</span> (91.20 MB)\n",
              "</pre>\n"
            ]
          },
          "metadata": {}
        },
        {
          "output_type": "display_data",
          "data": {
            "text/plain": [
              "\u001b[1m Non-trainable params: \u001b[0m\u001b[38;5;34m0\u001b[0m (0.00 B)\n"
            ],
            "text/html": [
              "<pre style=\"white-space:pre;overflow-x:auto;line-height:normal;font-family:Menlo,'DejaVu Sans Mono',consolas,'Courier New',monospace\"><span style=\"font-weight: bold\"> Non-trainable params: </span><span style=\"color: #00af00; text-decoration-color: #00af00\">0</span> (0.00 B)\n",
              "</pre>\n"
            ]
          },
          "metadata": {}
        }
      ]
    },
    {
      "cell_type": "code",
      "source": [
        "!ls /kaggle/input/handwritten-signature-verification/"
      ],
      "metadata": {
        "colab": {
          "base_uri": "https://localhost:8080/"
        },
        "id": "GibjqFz3q94H",
        "outputId": "3991d251-db2a-44e3-a723-b2f559f4ee71"
      },
      "execution_count": 18,
      "outputs": [
        {
          "output_type": "stream",
          "name": "stdout",
          "text": [
            "ls: cannot access '/kaggle/input/handwritten-signature-verification/': No such file or directory\n"
          ]
        }
      ]
    },
    {
      "cell_type": "code",
      "source": [
        "!ls /kaggle/input/"
      ],
      "metadata": {
        "colab": {
          "base_uri": "https://localhost:8080/"
        },
        "id": "amWW3qgnrLwY",
        "outputId": "b9b82ecd-2cdb-4dc6-889e-8ea4eb9d3b1e"
      },
      "execution_count": 19,
      "outputs": [
        {
          "output_type": "stream",
          "name": "stdout",
          "text": [
            "handwritten-signatures\n"
          ]
        }
      ]
    },
    {
      "cell_type": "code",
      "source": [
        "real_dir = '/kaggle/input/handwritten-signatures/Dataset_Signature_Final/Dataset/dataset1/real'\n",
        "forged_dir = '/kaggle/input/handwritten-signatures/Dataset_Signature_Final/Dataset/dataset1/forge'"
      ],
      "metadata": {
        "id": "KArfcvAHrfmb"
      },
      "execution_count": 20,
      "outputs": []
    },
    {
      "cell_type": "code",
      "source": [
        "import glob\n",
        "\n",
        "real_dir = glob.glob('/kaggle/input/handwritten-signatures/Dataset_Signature_Final/Dataset/dataset1/real/*.*')\n",
        "forged_dir = glob.glob('/kaggle/input/handwritten-signatures/Dataset_Signature_Final/Dataset/dataset1/forge/*.*')"
      ],
      "metadata": {
        "id": "bVFQgiHWrjDk"
      },
      "execution_count": 21,
      "outputs": []
    },
    {
      "cell_type": "code",
      "source": [
        "from tensorflow.keras.preprocessing.image import ImageDataGenerator\n",
        "\n",
        "# **Update these paths to the actual location of your extracted data**\n",
        "real_dir = '/kaggle/input/handwritten-signatures/Dataset_Signature_Final/Dataset/dataset1/real'\n",
        "forged_dir = '/kaggle/input/handwritten-signatures/Dataset_Signature_Final/Dataset/dataset1/forge'\n",
        "# Ensure the directories exist before proceeding\n",
        "import os\n",
        "\n",
        "if not os.path.exists(real_dir):\n",
        "    raise FileNotFoundError(f\"Directory not found: {real_dir}. Please check the path and ensure the data is extracted correctly.\")\n",
        "\n",
        "if not os.path.exists(forged_dir):\n",
        "    raise FileNotFoundError(f\"Directory not found: {forged_dir}. Please check the path and ensure the data is extracted correctly.\")\n",
        "\n",
        "# ... (rest of the code remains the same)\n",
        "# Create an ImageDataGenerator with augmentation for the training data\n",
        "train_datagen = ImageDataGenerator(\n",
        "    rescale=1./255,\n",
        "    shear_range=0.2,\n",
        "    zoom_range=0.2,\n",
        "    horizontal_flip=True)\n",
        "\n",
        "# Create an ImageDataGenerator without augmentation for the validation data\n",
        "val_datagen = ImageDataGenerator(rescale=1./255)\n",
        "\n",
        "# Create flow generators for the training and validation data\n",
        "train_generator = train_datagen.flow_from_directory(\n",
        "    real_dir,\n",
        "    target_size=(224, 224),\n",
        "    batch_size=16,\n",
        "    class_mode='binary')\n",
        "\n",
        "val_generator = val_datagen.flow_from_directory(\n",
        "    forged_dir,\n",
        "    target_size=(224, 224),\n",
        "    batch_size=16,\n",
        "    class_mode='binary')"
      ],
      "metadata": {
        "execution": {
          "iopub.status.busy": "2023-04-25T14:23:41.174299Z",
          "iopub.execute_input": "2023-04-25T14:23:41.175061Z",
          "iopub.status.idle": "2023-04-25T14:23:43.327379Z",
          "shell.execute_reply.started": "2023-04-25T14:23:41.175021Z",
          "shell.execute_reply": "2023-04-25T14:23:43.326257Z"
        },
        "trusted": true,
        "id": "N2_wHhyHo-yV",
        "colab": {
          "base_uri": "https://localhost:8080/"
        },
        "outputId": "aca42fd7-cc31-4254-b8a7-1d2346cf7053"
      },
      "execution_count": 22,
      "outputs": [
        {
          "output_type": "stream",
          "name": "stdout",
          "text": [
            "Found 0 images belonging to 0 classes.\n",
            "Found 0 images belonging to 0 classes.\n"
          ]
        }
      ]
    },
    {
      "cell_type": "code",
      "source": [
        "from tensorflow.keras.preprocessing.image import ImageDataGenerator\n",
        "\n",
        "# **Update these paths to the actual location of your extracted data**\n",
        "real_dir = '/kaggle/input/handwritten-signatures/Dataset_Signature_Final/Dataset/dataset1/real'\n",
        "forged_dir = '/kaggle/input/handwritten-signatures/Dataset_Signature_Final/Dataset/dataset1/forge'\n",
        "\n",
        "# Ensure the directories exist before proceeding\n",
        "import os\n",
        "\n",
        "if not os.path.exists(real_dir):\n",
        "    raise FileNotFoundError(f\"Directory not found: {real_dir}. Please check the path and ensure the data is extracted correctly.\")\n",
        "\n",
        "if not os.path.exists(forged_dir):\n",
        "    raise FileNotFoundError(f\"Directory not found: {forged_dir}. Please check the path and ensure the data is extracted correctly.\")\n",
        "\n",
        "\n",
        "# Create an ImageDataGenerator with augmentation for the training data\n",
        "train_datagen = ImageDataGenerator(\n",
        "    rescale=1./255,\n",
        "    shear_range=0.2,\n",
        "    zoom_range=0.2,\n",
        "    horizontal_flip=True)\n",
        "\n",
        "# Create an ImageDataGenerator without augmentation for the validation data\n",
        "val_datagen = ImageDataGenerator(rescale=1./255)\n",
        "\n",
        "# Create flow generators for the training and validation data\n",
        "train_generator = train_datagen.flow_from_directory(\n",
        "    os.path.dirname(real_dir), # Use the parent directory\n",
        "    target_size=(224, 224),\n",
        "    batch_size=16,\n",
        "    class_mode='binary',\n",
        "    subset='training') # Add subset argument for training data\n",
        "\n",
        "\n",
        "val_generator = val_datagen.flow_from_directory(\n",
        "    os.path.dirname(real_dir), # Use the parent directory\n",
        "    target_size=(224, 224),\n",
        "    batch_size=16,\n",
        "    class_mode='binary',\n",
        "    subset='validation') # Add subset argument for validation data"
      ],
      "metadata": {
        "execution": {
          "iopub.status.busy": "2023-04-25T14:23:43.329153Z",
          "iopub.execute_input": "2023-04-25T14:23:43.329538Z",
          "iopub.status.idle": "2023-04-25T14:45:19.410595Z",
          "shell.execute_reply.started": "2023-04-25T14:23:43.329502Z",
          "shell.execute_reply": "2023-04-25T14:45:19.409077Z"
        },
        "trusted": true,
        "id": "SUnC9XcWo-yW",
        "colab": {
          "base_uri": "https://localhost:8080/"
        },
        "outputId": "77fbde69-ce51-4652-9278-c234d150596b"
      },
      "execution_count": 25,
      "outputs": [
        {
          "output_type": "stream",
          "name": "stdout",
          "text": [
            "Found 120 images belonging to 2 classes.\n",
            "Found 0 images belonging to 2 classes.\n"
          ]
        }
      ]
    },
    {
      "cell_type": "code",
      "source": [
        "import os\n",
        "import cv2\n",
        "import numpy as np\n",
        "from sklearn.model_selection import train_test_split\n",
        "from tensorflow.keras.layers import Conv2D, MaxPooling2D, Flatten, Dense\n",
        "from tensorflow.keras.models import Sequential\n",
        "\n",
        "# Define the paths to the real and forged signature images\n",
        "# Updated path to reflect the correct location within the dataset\n",
        "real_path = '/kaggle/input/handwritten-signatures/Dataset_Signature_Final/Dataset/dataset1/real'\n",
        "forged_path = '/kaggle/input/handwritten-signatures/Dataset_Signature_Final/Dataset/dataset1/forge'\n",
        "\n",
        "# Load the real signature images\n",
        "real_images = []\n",
        "for filename in os.listdir(real_path):\n",
        "    image = cv2.imread(os.path.join(real_path, filename))\n",
        "    if image is not None:\n",
        "        image = cv2.cvtColor(image, cv2.COLOR_BGR2GRAY)\n",
        "        image = cv2.resize(image, (224, 224))\n",
        "        real_images.append(image)\n",
        "\n",
        "# Load the forged signature images\n",
        "forged_images = []\n",
        "for filename in os.listdir(forged_path):\n",
        "    image = cv2.imread(os.path.join(forged_path, filename))\n",
        "    if image is not None:\n",
        "        image = cv2.cvtColor(image, cv2.COLOR_BGR2GRAY)\n",
        "        image = cv2.resize(image, (224, 224))\n",
        "        forged_images.append(image)\n",
        "\n",
        "# Convert the images to numpy arrays\n",
        "real_images = np.array(real_images)\n",
        "forged_images = np.array(forged_images)\n",
        "\n",
        "# Create the labels (0 for real, 1 for forged)\n",
        "real_labels = np.zeros((real_images.shape[0], 1))\n",
        "forged_labels = np.ones((forged_images.shape[0], 1))\n",
        "\n",
        "# Concatenate the real and forged images and labels\n",
        "images = np.concatenate((real_images, forged_images))\n",
        "labels = np.concatenate((real_labels, forged_labels))\n",
        "\n",
        "# Split the data into training and validation sets\n",
        "train_images, val_images, train_labels, val_labels = train_test_split(images, labels, test_size=0.2, random_state=42)\n",
        "\n",
        "# Create the CNN model\n",
        "model = Sequential([\n",
        "    Conv2D(32, (3,3), activation='relu', input_shape=(224,224,1)),\n",
        "    MaxPooling2D(2,2),\n",
        "    Conv2D(64, (3,3), activation='relu'),\n",
        "    MaxPooling2D(2,2),\n",
        "    Conv2D(128, (3,3), activation='relu'),\n",
        "    MaxPooling2D(2,2),\n",
        "    Flatten(),\n",
        "    Dense(512, activation='relu'),\n",
        "    Dense(1, activation='sigmoid')\n",
        "])\n",
        "\n",
        "# Compile the model\n",
        "model.compile(loss='binary_crossentropy', optimizer='adam', metrics=['accuracy'])\n",
        "\n",
        "# Train the model on the training data\n",
        "model.fit(train_images.reshape((-1, 224, 224, 1)), train_labels, batch_size=32, epochs=10, validation_data=(val_images.reshape((-1, 224, 224, 1)), val_labels))\n",
        "\n",
        "# Evaluate the model on the validation data\n",
        "loss, accuracy = model.evaluate(val_images.reshape((-1, 224, 224, 1)), val_labels)\n",
        "print('Validation accuracy:', accuracy)"
      ],
      "metadata": {
        "execution": {
          "iopub.status.busy": "2023-04-25T14:45:19.420132Z",
          "iopub.execute_input": "2023-04-25T14:45:19.420625Z",
          "iopub.status.idle": "2023-04-25T14:52:18.434859Z",
          "shell.execute_reply.started": "2023-04-25T14:45:19.420581Z",
          "shell.execute_reply": "2023-04-25T14:52:18.433475Z"
        },
        "trusted": true,
        "id": "jcpOQeKBo-yY",
        "colab": {
          "base_uri": "https://localhost:8080/"
        },
        "outputId": "0ed65ab3-b1d8-47fa-b469-5fb51c0bcdc3"
      },
      "execution_count": 27,
      "outputs": [
        {
          "output_type": "stream",
          "name": "stderr",
          "text": [
            "/usr/local/lib/python3.11/dist-packages/keras/src/layers/convolutional/base_conv.py:107: UserWarning: Do not pass an `input_shape`/`input_dim` argument to a layer. When using Sequential models, prefer using an `Input(shape)` object as the first layer in the model instead.\n",
            "  super().__init__(activity_regularizer=activity_regularizer, **kwargs)\n"
          ]
        },
        {
          "output_type": "stream",
          "name": "stdout",
          "text": [
            "Epoch 1/10\n",
            "\u001b[1m3/3\u001b[0m \u001b[32m━━━━━━━━━━━━━━━━━━━━\u001b[0m\u001b[37m\u001b[0m \u001b[1m19s\u001b[0m 5s/step - accuracy: 0.3711 - loss: 1633.0277 - val_accuracy: 0.4583 - val_loss: 411.1760\n",
            "Epoch 2/10\n",
            "\u001b[1m3/3\u001b[0m \u001b[32m━━━━━━━━━━━━━━━━━━━━\u001b[0m\u001b[37m\u001b[0m \u001b[1m19s\u001b[0m 4s/step - accuracy: 0.5430 - loss: 266.0212 - val_accuracy: 0.5417 - val_loss: 36.9894\n",
            "Epoch 3/10\n",
            "\u001b[1m3/3\u001b[0m \u001b[32m━━━━━━━━━━━━━━━━━━━━\u001b[0m\u001b[37m\u001b[0m \u001b[1m22s\u001b[0m 5s/step - accuracy: 0.4388 - loss: 51.3610 - val_accuracy: 0.4583 - val_loss: 12.6693\n",
            "Epoch 4/10\n",
            "\u001b[1m3/3\u001b[0m \u001b[32m━━━━━━━━━━━━━━━━━━━━\u001b[0m\u001b[37m\u001b[0m \u001b[1m19s\u001b[0m 4s/step - accuracy: 0.5573 - loss: 26.3664 - val_accuracy: 0.4583 - val_loss: 16.2501\n",
            "Epoch 5/10\n",
            "\u001b[1m3/3\u001b[0m \u001b[32m━━━━━━━━━━━━━━━━━━━━\u001b[0m\u001b[37m\u001b[0m \u001b[1m13s\u001b[0m 4s/step - accuracy: 0.4414 - loss: 12.7353 - val_accuracy: 0.4583 - val_loss: 10.7513\n",
            "Epoch 6/10\n",
            "\u001b[1m3/3\u001b[0m \u001b[32m━━━━━━━━━━━━━━━━━━━━\u001b[0m\u001b[37m\u001b[0m \u001b[1m21s\u001b[0m 5s/step - accuracy: 0.5286 - loss: 10.3552 - val_accuracy: 0.4583 - val_loss: 1.6735\n",
            "Epoch 7/10\n",
            "\u001b[1m3/3\u001b[0m \u001b[32m━━━━━━━━━━━━━━━━━━━━\u001b[0m\u001b[37m\u001b[0m \u001b[1m20s\u001b[0m 4s/step - accuracy: 0.5234 - loss: 2.2228 - val_accuracy: 0.5417 - val_loss: 1.6884\n",
            "Epoch 8/10\n",
            "\u001b[1m3/3\u001b[0m \u001b[32m━━━━━━━━━━━━━━━━━━━━\u001b[0m\u001b[37m\u001b[0m \u001b[1m20s\u001b[0m 5s/step - accuracy: 0.5091 - loss: 4.2707 - val_accuracy: 0.5417 - val_loss: 2.1137\n",
            "Epoch 9/10\n",
            "\u001b[1m3/3\u001b[0m \u001b[32m━━━━━━━━━━━━━━━━━━━━\u001b[0m\u001b[37m\u001b[0m \u001b[1m13s\u001b[0m 5s/step - accuracy: 0.5560 - loss: 1.8112 - val_accuracy: 0.5417 - val_loss: 3.5414\n",
            "Epoch 10/10\n",
            "\u001b[1m3/3\u001b[0m \u001b[32m━━━━━━━━━━━━━━━━━━━━\u001b[0m\u001b[37m\u001b[0m \u001b[1m20s\u001b[0m 4s/step - accuracy: 0.4714 - loss: 2.8071 - val_accuracy: 0.4583 - val_loss: 0.7289\n",
            "\u001b[1m1/1\u001b[0m \u001b[32m━━━━━━━━━━━━━━━━━━━━\u001b[0m\u001b[37m\u001b[0m \u001b[1m1s\u001b[0m 773ms/step - accuracy: 0.4583 - loss: 0.7289\n",
            "Validation accuracy: 0.4583333432674408\n"
          ]
        }
      ]
    },
    {
      "cell_type": "code",
      "source": [
        "import matplotlib.pyplot as plt\n",
        "import tensorflow as tf\n",
        "# Evaluate the model on the validation data\n",
        "val_loss, val_acc = model.evaluate(val_images.reshape((-1, 224, 224, 1)), val_labels)\n",
        "print('Validation accuracy:', val_acc)\n",
        "\n",
        "# Assuming 'model' is your trained Keras model\n",
        "# Assign the result of `model.fit` to the `history` variable\n",
        "history = model.fit(train_images.reshape((-1, 224, 224, 1)), train_labels, batch_size=32, epochs=10, validation_data=(val_images.reshape((-1, 224, 224, 1)), val_labels))\n",
        "\n",
        "\n",
        "# Plot the loss and accuracy over epochs\n",
        "plt.plot(history.history['loss'], label='Training loss')\n",
        "plt.plot(history.history['val_loss'], label='Validation loss')\n",
        "plt.plot(history.history['accuracy'], label='Training accuracy')\n",
        "plt.plot(history.history['loss'], label='Training loss')\n",
        "plt.plot(history.history['val_loss'], label='Validation loss')\n",
        "plt.title('Loss')\n",
        "plt.xlabel('Epoch')\n",
        "plt.ylabel('Loss')\n",
        "plt.legend()\n",
        "plt.show()"
      ],
      "metadata": {
        "execution": {
          "iopub.status.busy": "2023-04-25T14:52:18.436662Z",
          "iopub.execute_input": "2023-04-25T14:52:18.43701Z",
          "iopub.status.idle": "2023-04-25T14:52:20.243554Z",
          "shell.execute_reply.started": "2023-04-25T14:52:18.436975Z",
          "shell.execute_reply": "2023-04-25T14:52:20.242597Z"
        },
        "trusted": true,
        "id": "Wqzpd31yo-ya",
        "colab": {
          "base_uri": "https://localhost:8080/",
          "height": 881
        },
        "outputId": "a24a8f7c-2059-43fa-d2f1-29b37bf3d84d"
      },
      "execution_count": 29,
      "outputs": [
        {
          "output_type": "stream",
          "name": "stdout",
          "text": [
            "\u001b[1m1/1\u001b[0m \u001b[32m━━━━━━━━━━━━━━━━━━━━\u001b[0m\u001b[37m\u001b[0m \u001b[1m1s\u001b[0m 1s/step - accuracy: 0.4583 - loss: 0.7289\n",
            "Validation accuracy: 0.4583333432674408\n",
            "Epoch 1/10\n",
            "\u001b[1m3/3\u001b[0m \u001b[32m━━━━━━━━━━━━━━━━━━━━\u001b[0m\u001b[37m\u001b[0m \u001b[1m13s\u001b[0m 4s/step - accuracy: 0.6979 - loss: 0.6050 - val_accuracy: 0.5417 - val_loss: 1.9663\n",
            "Epoch 2/10\n",
            "\u001b[1m3/3\u001b[0m \u001b[32m━━━━━━━━━━━━━━━━━━━━\u001b[0m\u001b[37m\u001b[0m \u001b[1m20s\u001b[0m 4s/step - accuracy: 0.6992 - loss: 1.1319 - val_accuracy: 0.4167 - val_loss: 0.7018\n",
            "Epoch 3/10\n",
            "\u001b[1m3/3\u001b[0m \u001b[32m━━━━━━━━━━━━━━━━━━━━\u001b[0m\u001b[37m\u001b[0m \u001b[1m21s\u001b[0m 4s/step - accuracy: 0.7070 - loss: 0.6387 - val_accuracy: 0.3750 - val_loss: 0.7030\n",
            "Epoch 4/10\n",
            "\u001b[1m3/3\u001b[0m \u001b[32m━━━━━━━━━━━━━━━━━━━━\u001b[0m\u001b[37m\u001b[0m \u001b[1m20s\u001b[0m 5s/step - accuracy: 0.9193 - loss: 0.6244 - val_accuracy: 0.5000 - val_loss: 0.6946\n",
            "Epoch 5/10\n",
            "\u001b[1m3/3\u001b[0m \u001b[32m━━━━━━━━━━━━━━━━━━━━\u001b[0m\u001b[37m\u001b[0m \u001b[1m21s\u001b[0m 4s/step - accuracy: 0.9557 - loss: 0.5776 - val_accuracy: 0.6667 - val_loss: 0.6796\n",
            "Epoch 6/10\n",
            "\u001b[1m3/3\u001b[0m \u001b[32m━━━━━━━━━━━━━━━━━━━━\u001b[0m\u001b[37m\u001b[0m \u001b[1m21s\u001b[0m 5s/step - accuracy: 0.8281 - loss: 2.5474 - val_accuracy: 0.4583 - val_loss: 3.3525\n",
            "Epoch 7/10\n",
            "\u001b[1m3/3\u001b[0m \u001b[32m━━━━━━━━━━━━━━━━━━━━\u001b[0m\u001b[37m\u001b[0m \u001b[1m20s\u001b[0m 4s/step - accuracy: 0.5911 - loss: 1.5540 - val_accuracy: 0.6667 - val_loss: 0.6771\n",
            "Epoch 8/10\n",
            "\u001b[1m3/3\u001b[0m \u001b[32m━━━━━━━━━━━━━━━━━━━━\u001b[0m\u001b[37m\u001b[0m \u001b[1m20s\u001b[0m 4s/step - accuracy: 0.7786 - loss: 0.4154 - val_accuracy: 0.5000 - val_loss: 0.7775\n",
            "Epoch 9/10\n",
            "\u001b[1m3/3\u001b[0m \u001b[32m━━━━━━━━━━━━━━━━━━━━\u001b[0m\u001b[37m\u001b[0m \u001b[1m13s\u001b[0m 4s/step - accuracy: 0.9388 - loss: 0.3155 - val_accuracy: 0.5000 - val_loss: 0.8538\n",
            "Epoch 10/10\n",
            "\u001b[1m3/3\u001b[0m \u001b[32m━━━━━━━━━━━━━━━━━━━━\u001b[0m\u001b[37m\u001b[0m \u001b[1m21s\u001b[0m 5s/step - accuracy: 0.9036 - loss: 0.4317 - val_accuracy: 0.5000 - val_loss: 0.8712\n"
          ]
        },
        {
          "output_type": "display_data",
          "data": {
            "text/plain": [
              "<Figure size 640x480 with 1 Axes>"
            ],
            "image/png": "[encoded data removed]"
          },
          "metadata": {}
        }
      ]
    },
    {
      "cell_type": "code",
      "source": [
        "plt.plot(history.history['accuracy'], label='Training accuracy')\n",
        "plt.plot(history.history['val_accuracy'], label='Validation accuracy')\n",
        "plt.title('Accuracy')\n",
        "plt.xlabel('Epoch')\n",
        "plt.ylabel('Accuracy')\n",
        "plt.legend()\n",
        "plt.show()"
      ],
      "metadata": {
        "execution": {
          "iopub.status.busy": "2023-04-25T14:52:20.244703Z",
          "iopub.execute_input": "2023-04-25T14:52:20.24565Z",
          "iopub.status.idle": "2023-04-25T14:52:20.480164Z",
          "shell.execute_reply.started": "2023-04-25T14:52:20.24561Z",
          "shell.execute_reply": "2023-04-25T14:52:20.47887Z"
        },
        "trusted": true,
        "id": "bHpgu6Q7o-yc",
        "colab": {
          "base_uri": "https://localhost:8080/",
          "height": 472
        },
        "outputId": "aa657f0e-4283-49ec-87e7-544272da8483"
      },
      "execution_count": 30,
      "outputs": [
        {
          "output_type": "display_data",
          "data": {
            "text/plain": [
              "<Figure size 640x480 with 1 Axes>"
            ],
            "image/png": "[encoded data removed]"
          },
          "metadata": {}
        }
      ]
    },
    {
      "cell_type": "markdown",
      "source": [
        "# SIAMESE NEURAL NETWORK MODEL"
      ],
      "metadata": {
        "id": "nIYbl9szo-yc"
      }
    },
    {
      "cell_type": "markdown",
      "source": [
        "* Distance : Euclidean\n",
        "* Activation : Sigmoid"
      ],
      "metadata": {
        "id": "ycJOoFcUo-yd"
      }
    },
    {
      "cell_type": "code",
      "source": [
        "import cv2\n",
        "import glob\n",
        "from keras.layers import Input, Conv2D, MaxPooling2D, Flatten, Dense, Lambda, Dropout\n",
        "from keras.models import Model, Sequential\n",
        "from keras.optimizers import Adam\n",
        "from tensorflow import keras # Import tensorflow.keras\n",
        "from sklearn.utils import shuffle\n",
        "import numpy as np\n",
        "import matplotlib.pyplot as plt\n",
        "\n",
        "\n",
        "gen = [glob.glob('../input/handwritten-signatures/Dataset_Signature_Final/Dataset/dataset1/real/*.*'),\n",
        "       glob.glob('../input/handwritten-signatures/Dataset_Signature_Final/Dataset/dataset2/real/*.*'),\n",
        "       glob.glob('../input/handwritten-signatures/Dataset_Signature_Final/Dataset/dataset3/real/*.*'),\n",
        "       glob.glob('../input/handwritten-signatures/Dataset_Signature_Final/Dataset/dataset4/real1/*.*')]\n",
        "\n",
        "forg = [glob.glob('../input/handwritten-signatures/Dataset_Signature_Final/Dataset/dataset1/forge/*.*'),\n",
        "        glob.glob('../input/handwritten-signatures/Dataset_Signature_Final/Dataset/dataset2/forge/*.*'),\n",
        "        glob.glob('../input/handwritten-signatures/Dataset_Signature_Final/Dataset/dataset3/forge/*.*'),\n",
        "        glob.glob('../input/handwritten-signatures/Dataset_Signature_Final/Dataset/dataset4/forge/*.*')]\n",
        "\n",
        "train_data = []\n",
        "train_labels = []\n",
        "\n",
        "test_data = []\n",
        "test_labels = []\n",
        "\n",
        "for data in range(len(gen)):\n",
        "    for i in gen[data]:\n",
        "        if data == 3:\n",
        "            image = cv2.imread(i)\n",
        "            image = cv2.cvtColor(image, cv2.COLOR_BGR2RGB)\n",
        "            image = cv2.resize(image, (224, 224))\n",
        "            test_data.append(image)\n",
        "            test_labels.append(0)\n",
        "        else:\n",
        "            image = cv2.imread(i)\n",
        "            image = cv2.cvtColor(image, cv2.COLOR_BGR2RGB)\n",
        "            image = cv2.resize(image, (224, 224))\n",
        "            train_data.append(image)\n",
        "            train_labels.append(0) #genuine = 0\n",
        "\n",
        "for data in range(len(forg)):\n",
        "    for j in forg[data]:\n",
        "        if data == 3:\n",
        "            image = cv2.imread(j)\n",
        "            image = cv2.cvtColor(image, cv2.COLOR_BGR2RGB)\n",
        "            image = cv2.resize(image, (224, 224))\n",
        "            test_data.append(image)\n",
        "            test_labels.append(1)\n",
        "        else:\n",
        "            image = cv2.imread(j)\n",
        "            image = cv2.cvtColor(image, cv2.COLOR_BGR2RGB)\n",
        "            image = cv2.resize(image, (224, 224))\n",
        "            train_data.append(image)\n",
        "            train_labels.append(1) #forged = 1\n",
        "\n",
        "train_data = np.array(train_data)/255.0\n",
        "train_labels = np.array(train_labels)\n",
        "\n",
        "test_data = np.array(test_data)/255.0\n",
        "test_labels = np.array(test_labels)\n",
        "\n",
        "train_data,train_labels = shuffle(train_data,train_labels)\n",
        "\n",
        "test_data,test_labels = shuffle(test_data,test_labels)\n",
        "\n",
        "def create_base_network(input_shape):\n",
        "    input = Input(shape=input_shape)\n",
        "    x = Conv2D(64, (3, 3), activation='relu')(input)\n",
        "    x = MaxPooling2D(3, 3)(x)\n",
        "    x = Conv2D(32, (3, 3), activation='relu')(x)\n",
        "    x = MaxPooling2D(2, 2)(x)\n",
        "    x = Flatten()(x)\n",
        "    x = Dense(128, activation='relu')(x)\n",
        "    x = Dropout(rate=0.3)(x)\n",
        "    return Model(input, x)\n",
        "\n",
        "input_shape = (224, 224, 3)\n",
        "base_network = create_base_network(input_shape)\n",
        "\n",
        "input1 = Input(shape=input_shape)\n",
        "input2 = Input(shape=input_shape)\n",
        "\n",
        "output1 = base_network(input1)\n",
        "output2 = base_network(input2)\n",
        "\n",
        "distance = Lambda(lambda x: K.abs(x[0] - x[1]), output_shape=(128,))([output1, output2])\n",
        "\n",
        "prediction = Dense(2, activation='softmax')(distance)\n",
        "\n",
        "siamese_network = Model(inputs=[input1, input2], outputs=prediction)\n",
        "siamese_network.compile(optimizer=Adam(learning_rate=0.001), loss=\"binary_crossentropy\", metrics=[\"accuracy\"])\n",
        "\n",
        "siamese_network.summary()\n",
        "\n",
        "\n",
        "\n",
        "# define input shape for the network\n",
        "input_shape = (224, 224, 3)\n",
        "\n",
        "# define the left and right input tensors\n",
        "left_input = Input(input_shape)\n",
        "right_input = Input(input_shape)\n",
        "\n",
        "#sigmoid function\n",
        "def sigmoid(x):\n",
        "    return 1 / (1 + np.exp(-x))\n",
        "\n",
        "# define the convolutional layers\n",
        "convnet = Sequential()\n",
        "convnet.add(Conv2D(64,(3,3),input_shape=input_shape,activation='sigmoid'))\n",
        "convnet.add(MaxPooling2D(3,3))\n",
        "convnet.add(Conv2D(32,(3,3),activation='sigmoid'))\n",
        "convnet.add(MaxPooling2D(2,2))\n",
        "convnet.add(Flatten())\n",
        "convnet.add(Dense(128,activation = 'sigmoid'))\n",
        "convnet.add(Dropout(rate=0.3))\n",
        "\n",
        "# create the left and right branches of the network\n",
        "encoded_l = convnet(left_input)\n",
        "encoded_r = convnet(right_input)\n",
        "\n",
        "# ... (previous code)\n",
        "\n",
        "# Define the distance metric function using Euclidean distance\n",
        "def euclidean_distance(vectors):\n",
        "    (featsA, featsB) = vectors\n",
        "    # Use keras.backend.square for compatibility with TensorFlow backend\n",
        "    squared_diff = keras.backend.square(featsA - featsB)\n",
        "    return keras.backend.sqrt(keras.backend.sum(squared_diff, axis=1, keepdims=True))\n",
        "\n",
        "# ... (rest of your code)\n",
        "# Specify the output_shape argument for the Lambda layer\n",
        "distance = Lambda(euclidean_distance, output_shape=(1,))([encoded_l, encoded_r])\n",
        "outputs = Dense(1, activation=\"sigmoid\")(distance)\n",
        "\n",
        "# ... (rest of the code)\n",
        "\n",
        "# create the siamese network model\n",
        "model = Model(inputs=[left_input, right_input], outputs=outputs)\n",
        "\n",
        "# compile the model\n",
        "model.compile(optimizer='adam', loss='binary_crossentropy', metrics=['accuracy'])\n",
        "\n",
        "# prepare the input data\n",
        "train_data1 = np.random.rand(100, 224, 224, 3)\n",
        "train_data2 = np.random.rand(100, 224, 224, 3)\n",
        "train_labels = np.random.randint(2, size=(100, 1))\n",
        "\n",
        "# train the model\n",
        "history = model.fit([train_data1, train_data2], train_labels, batch_size=16, epochs=10, validation_split=0.2)\n",
        "\n",
        "acc = history.history['accuracy']\n",
        "val_acc = history.history['val_accuracy']\n",
        "loss = history.history['loss']\n",
        "val_loss = history.history['val_loss']\n",
        "\n",
        "epochs = range(len(acc))\n",
        "\n",
        "plt.plot(epochs, acc, 'b', label='Training acc')\n",
        "plt.plot(epochs, val_acc, 'r', label='Validation acc')\n",
        "plt.title('Training and validation accuracy')\n",
        "plt.legend()\n",
        "\n",
        "plt.plot(epochs, loss, 'b', label='Training loss')\n",
        "plt.plot(epochs, val_loss, 'r', label='Validation loss')\n",
        "plt.title('Training and validation loss')\n",
        "plt.legend()\n",
        "\n",
        "plt.show()\n",
        "\n",
        "plt.figure()\n"
      ],
      "metadata": {
        "colab": {
          "base_uri": "https://localhost:8080/",
          "height": 1000
        },
        "id": "sIdWAFc-yzX0",
        "outputId": "ebf40f1f-6c69-48c1-a1fe-4014a0c90434"
      },
      "execution_count": 45,
      "outputs": [
        {
          "output_type": "display_data",
          "data": {
            "text/plain": [
              "\u001b[1mModel: \"functional_60\"\u001b[0m\n"
            ],
            "text/html": [
              "<pre style=\"white-space:pre;overflow-x:auto;line-height:normal;font-family:Menlo,'DejaVu Sans Mono',consolas,'Courier New',monospace\"><span style=\"font-weight: bold\">Model: \"functional_60\"</span>\n",
              "</pre>\n"
            ]
          },
          "metadata": {}
        },
        {
          "output_type": "display_data",
          "data": {
            "text/plain": [
              "┏━━━━━━━━━━━━━━━━━━━━━┳━━━━━━━━━━━━━━━━━━━┳━━━━━━━━━━━━┳━━━━━━━━━━━━━━━━━━━┓\n",
              "┃\u001b[1m \u001b[0m\u001b[1mLayer (type)       \u001b[0m\u001b[1m \u001b[0m┃\u001b[1m \u001b[0m\u001b[1mOutput Shape     \u001b[0m\u001b[1m \u001b[0m┃\u001b[1m \u001b[0m\u001b[1m   Param #\u001b[0m\u001b[1m \u001b[0m┃\u001b[1m \u001b[0m\u001b[1mConnected to     \u001b[0m\u001b[1m \u001b[0m┃\n",
              "┡━━━━━━━━━━━━━━━━━━━━━╇━━━━━━━━━━━━━━━━━━━╇━━━━━━━━━━━━╇━━━━━━━━━━━━━━━━━━━┩\n",
              "│ input_layer_45      │ (\u001b[38;5;45mNone\u001b[0m, \u001b[38;5;34m224\u001b[0m, \u001b[38;5;34m224\u001b[0m,  │          \u001b[38;5;34m0\u001b[0m │ -                 │\n",
              "│ (\u001b[38;5;33mInputLayer\u001b[0m)        │ \u001b[38;5;34m3\u001b[0m)                │            │                   │\n",
              "├─────────────────────┼───────────────────┼────────────┼───────────────────┤\n",
              "│ input_layer_46      │ (\u001b[38;5;45mNone\u001b[0m, \u001b[38;5;34m224\u001b[0m, \u001b[38;5;34m224\u001b[0m,  │          \u001b[38;5;34m0\u001b[0m │ -                 │\n",
              "│ (\u001b[38;5;33mInputLayer\u001b[0m)        │ \u001b[38;5;34m3\u001b[0m)                │            │                   │\n",
              "├─────────────────────┼───────────────────┼────────────┼───────────────────┤\n",
              "│ functional_59       │ (\u001b[38;5;45mNone\u001b[0m, \u001b[38;5;34m128\u001b[0m)       │  \u001b[38;5;34m5,328,800\u001b[0m │ input_layer_45[\u001b[38;5;34m0\u001b[0m… │\n",
              "│ (\u001b[38;5;33mFunctional\u001b[0m)        │                   │            │ input_layer_46[\u001b[38;5;34m0\u001b[0m… │\n",
              "├─────────────────────┼───────────────────┼────────────┼───────────────────┤\n",
              "│ lambda_14 (\u001b[38;5;33mLambda\u001b[0m)  │ (\u001b[38;5;45mNone\u001b[0m, \u001b[38;5;34m128\u001b[0m)       │          \u001b[38;5;34m0\u001b[0m │ functional_59[\u001b[38;5;34m0\u001b[0m]… │\n",
              "│                     │                   │            │ functional_59[\u001b[38;5;34m1\u001b[0m]… │\n",
              "├─────────────────────┼───────────────────┼────────────┼───────────────────┤\n",
              "│ dense_29 (\u001b[38;5;33mDense\u001b[0m)    │ (\u001b[38;5;45mNone\u001b[0m, \u001b[38;5;34m2\u001b[0m)         │        \u001b[38;5;34m258\u001b[0m │ lambda_14[\u001b[38;5;34m0\u001b[0m][\u001b[38;5;34m0\u001b[0m]   │\n",
              "└─────────────────────┴───────────────────┴────────────┴───────────────────┘\n"
            ],
            "text/html": [
              "<pre style=\"white-space:pre;overflow-x:auto;line-height:normal;font-family:Menlo,'DejaVu Sans Mono',consolas,'Courier New',monospace\">┏━━━━━━━━━━━━━━━━━━━━━┳━━━━━━━━━━━━━━━━━━━┳━━━━━━━━━━━━┳━━━━━━━━━━━━━━━━━━━┓\n",
              "┃<span style=\"font-weight: bold\"> Layer (type)        </span>┃<span style=\"font-weight: bold\"> Output Shape      </span>┃<span style=\"font-weight: bold\">    Param # </span>┃<span style=\"font-weight: bold\"> Connected to      </span>┃\n",
              "┡━━━━━━━━━━━━━━━━━━━━━╇━━━━━━━━━━━━━━━━━━━╇━━━━━━━━━━━━╇━━━━━━━━━━━━━━━━━━━┩\n",
              "│ input_layer_45      │ (<span style=\"color: #00d7ff; text-decoration-color: #00d7ff\">None</span>, <span style=\"color: #00af00; text-decoration-color: #00af00\">224</span>, <span style=\"color: #00af00; text-decoration-color: #00af00\">224</span>,  │          <span style=\"color: #00af00; text-decoration-color: #00af00\">0</span> │ -                 │\n",
              "│ (<span style=\"color: #0087ff; text-decoration-color: #0087ff\">InputLayer</span>)        │ <span style=\"color: #00af00; text-decoration-color: #00af00\">3</span>)                │            │                   │\n",
              "├─────────────────────┼───────────────────┼────────────┼───────────────────┤\n",
              "│ input_layer_46      │ (<span style=\"color: #00d7ff; text-decoration-color: #00d7ff\">None</span>, <span style=\"color: #00af00; text-decoration-color: #00af00\">224</span>, <span style=\"color: #00af00; text-decoration-color: #00af00\">224</span>,  │          <span style=\"color: #00af00; text-decoration-color: #00af00\">0</span> │ -                 │\n",
              "│ (<span style=\"color: #0087ff; text-decoration-color: #0087ff\">InputLayer</span>)        │ <span style=\"color: #00af00; text-decoration-color: #00af00\">3</span>)                │            │                   │\n",
              "├─────────────────────┼───────────────────┼────────────┼───────────────────┤\n",
              "│ functional_59       │ (<span style=\"color: #00d7ff; text-decoration-color: #00d7ff\">None</span>, <span style=\"color: #00af00; text-decoration-color: #00af00\">128</span>)       │  <span style=\"color: #00af00; text-decoration-color: #00af00\">5,328,800</span> │ input_layer_45[<span style=\"color: #00af00; text-decoration-color: #00af00\">0</span>… │\n",
              "│ (<span style=\"color: #0087ff; text-decoration-color: #0087ff\">Functional</span>)        │                   │            │ input_layer_46[<span style=\"color: #00af00; text-decoration-color: #00af00\">0</span>… │\n",
              "├─────────────────────┼───────────────────┼────────────┼───────────────────┤\n",
              "│ lambda_14 (<span style=\"color: #0087ff; text-decoration-color: #0087ff\">Lambda</span>)  │ (<span style=\"color: #00d7ff; text-decoration-color: #00d7ff\">None</span>, <span style=\"color: #00af00; text-decoration-color: #00af00\">128</span>)       │          <span style=\"color: #00af00; text-decoration-color: #00af00\">0</span> │ functional_59[<span style=\"color: #00af00; text-decoration-color: #00af00\">0</span>]… │\n",
              "│                     │                   │            │ functional_59[<span style=\"color: #00af00; text-decoration-color: #00af00\">1</span>]… │\n",
              "├─────────────────────┼───────────────────┼────────────┼───────────────────┤\n",
              "│ dense_29 (<span style=\"color: #0087ff; text-decoration-color: #0087ff\">Dense</span>)    │ (<span style=\"color: #00d7ff; text-decoration-color: #00d7ff\">None</span>, <span style=\"color: #00af00; text-decoration-color: #00af00\">2</span>)         │        <span style=\"color: #00af00; text-decoration-color: #00af00\">258</span> │ lambda_14[<span style=\"color: #00af00; text-decoration-color: #00af00\">0</span>][<span style=\"color: #00af00; text-decoration-color: #00af00\">0</span>]   │\n",
              "└─────────────────────┴───────────────────┴────────────┴───────────────────┘\n",
              "</pre>\n"
            ]
          },
          "metadata": {}
        },
        {
          "output_type": "display_data",
          "data": {
            "text/plain": [
              "\u001b[1m Total params: \u001b[0m\u001b[38;5;34m5,329,058\u001b[0m (20.33 MB)\n"
            ],
            "text/html": [
              "<pre style=\"white-space:pre;overflow-x:auto;line-height:normal;font-family:Menlo,'DejaVu Sans Mono',consolas,'Courier New',monospace\"><span style=\"font-weight: bold\"> Total params: </span><span style=\"color: #00af00; text-decoration-color: #00af00\">5,329,058</span> (20.33 MB)\n",
              "</pre>\n"
            ]
          },
          "metadata": {}
        },
        {
          "output_type": "display_data",
          "data": {
            "text/plain": [
              "\u001b[1m Trainable params: \u001b[0m\u001b[38;5;34m5,329,058\u001b[0m (20.33 MB)\n"
            ],
            "text/html": [
              "<pre style=\"white-space:pre;overflow-x:auto;line-height:normal;font-family:Menlo,'DejaVu Sans Mono',consolas,'Courier New',monospace\"><span style=\"font-weight: bold\"> Trainable params: </span><span style=\"color: #00af00; text-decoration-color: #00af00\">5,329,058</span> (20.33 MB)\n",
              "</pre>\n"
            ]
          },
          "metadata": {}
        },
        {
          "output_type": "display_data",
          "data": {
            "text/plain": [
              "\u001b[1m Non-trainable params: \u001b[0m\u001b[38;5;34m0\u001b[0m (0.00 B)\n"
            ],
            "text/html": [
              "<pre style=\"white-space:pre;overflow-x:auto;line-height:normal;font-family:Menlo,'DejaVu Sans Mono',consolas,'Courier New',monospace\"><span style=\"font-weight: bold\"> Non-trainable params: </span><span style=\"color: #00af00; text-decoration-color: #00af00\">0</span> (0.00 B)\n",
              "</pre>\n"
            ]
          },
          "metadata": {}
        },
        {
          "output_type": "stream",
          "name": "stdout",
          "text": [
            "Epoch 1/10\n",
            "\u001b[1m5/5\u001b[0m \u001b[32m━━━━━━━━━━━━━━━━━━━━\u001b[0m\u001b[37m\u001b[0m \u001b[1m17s\u001b[0m 3s/step - accuracy: 0.5611 - loss: 2.2292 - val_accuracy: 0.5000 - val_loss: 0.6931\n",
            "Epoch 2/10\n",
            "\u001b[1m5/5\u001b[0m \u001b[32m━━━━━━━━━━━━━━━━━━━━\u001b[0m\u001b[37m\u001b[0m \u001b[1m14s\u001b[0m 3s/step - accuracy: 0.4715 - loss: 1.1647 - val_accuracy: 0.5000 - val_loss: 0.6932\n",
            "Epoch 3/10\n",
            "\u001b[1m5/5\u001b[0m \u001b[32m━━━━━━━━━━━━━━━━━━━━\u001b[0m\u001b[37m\u001b[0m \u001b[1m14s\u001b[0m 3s/step - accuracy: 0.6234 - loss: nan - val_accuracy: 0.5000 - val_loss: nan\n",
            "Epoch 4/10\n",
            "\u001b[1m5/5\u001b[0m \u001b[32m━━━━━━━━━━━━━━━━━━━━\u001b[0m\u001b[37m\u001b[0m \u001b[1m20s\u001b[0m 3s/step - accuracy: 0.4780 - loss: nan - val_accuracy: 0.5000 - val_loss: nan\n",
            "Epoch 5/10\n",
            "\u001b[1m5/5\u001b[0m \u001b[32m━━━━━━━━━━━━━━━━━━━━\u001b[0m\u001b[37m\u001b[0m \u001b[1m21s\u001b[0m 3s/step - accuracy: 0.4536 - loss: nan - val_accuracy: 0.5000 - val_loss: nan\n",
            "Epoch 6/10\n",
            "\u001b[1m5/5\u001b[0m \u001b[32m━━━━━━━━━━━━━━━━━━━━\u001b[0m\u001b[37m\u001b[0m \u001b[1m20s\u001b[0m 3s/step - accuracy: 0.5179 - loss: nan - val_accuracy: 0.5000 - val_loss: nan\n",
            "Epoch 7/10\n",
            "\u001b[1m5/5\u001b[0m \u001b[32m━━━━━━━━━━━━━━━━━━━━\u001b[0m\u001b[37m\u001b[0m \u001b[1m21s\u001b[0m 3s/step - accuracy: 0.4727 - loss: nan - val_accuracy: 0.5000 - val_loss: nan\n",
            "Epoch 8/10\n",
            "\u001b[1m5/5\u001b[0m \u001b[32m━━━━━━━━━━━━━━━━━━━━\u001b[0m\u001b[37m\u001b[0m \u001b[1m20s\u001b[0m 3s/step - accuracy: 0.3911 - loss: nan - val_accuracy: 0.5000 - val_loss: nan\n",
            "Epoch 9/10\n",
            "\u001b[1m5/5\u001b[0m \u001b[32m━━━━━━━━━━━━━━━━━━━━\u001b[0m\u001b[37m\u001b[0m \u001b[1m20s\u001b[0m 3s/step - accuracy: 0.4615 - loss: nan - val_accuracy: 0.5000 - val_loss: nan\n",
            "Epoch 10/10\n",
            "\u001b[1m5/5\u001b[0m \u001b[32m━━━━━━━━━━━━━━━━━━━━\u001b[0m\u001b[37m\u001b[0m \u001b[1m14s\u001b[0m 3s/step - accuracy: 0.4823 - loss: nan - val_accuracy: 0.5000 - val_loss: nan\n"
          ]
        },
        {
          "output_type": "display_data",
          "data": {
            "text/plain": [
              "<Figure size 640x480 with 1 Axes>"
            ],
            "image/png": "[encoded data removed]"
          },
          "metadata": {}
        },
        {
          "output_type": "execute_result",
          "data": {
            "text/plain": [
              "<Figure size 640x480 with 0 Axes>"
            ]
          },
          "metadata": {},
          "execution_count": 45
        },
        {
          "output_type": "display_data",
          "data": {
            "text/plain": [
              "<Figure size 640x480 with 0 Axes>"
            ]
          },
          "metadata": {}
        }
      ]
    },
    {
      "cell_type": "code",
      "source": [
        "import cv2\n",
        "import glob\n",
        "from keras.layers import Input, Conv2D, MaxPooling2D, Flatten, Dense, Lambda, Dropout\n",
        "from keras.models import Model, Sequential\n",
        "from keras.optimizers import Adam\n",
        "from tensorflow import keras # Import tensorflow.keras\n",
        "from sklearn.utils import shuffle\n",
        "import numpy as np\n",
        "import matplotlib.pyplot as plt\n",
        "\n",
        "\n",
        "gen = [glob.glob('/kaggle/input/handwritten-signatures/Dataset_Signature_Final/Dataset/dataset1/real/*.*'),\n",
        "       glob.glob('/kaggle/input/handwritten-signatures/Dataset_Signature_Final/Dataset/dataset2/real/*.*'),\n",
        "       glob.glob('/kaggle/input/handwritten-signatures/Dataset_Signature_Final/Dataset/dataset3/real/*.*'),\n",
        "       glob.glob('/kaggle/input/handwritten-signatures/Dataset_Signature_Final/Dataset/dataset4/real1/*.*')]\n",
        "\n",
        "forg = [glob.glob('/kaggle/input/handwritten-signatures/Dataset_Signature_Final/Dataset/dataset1/forge/*.*'),\n",
        "        glob.glob('/kaggle/input/handwritten-signatures/Dataset_Signature_Final/Dataset/dataset2/forge/*.*'),\n",
        "        glob.glob('/kaggle/input/handwritten-signatures/Dataset_Signature_Final/Dataset/dataset3/forge/*.*'),\n",
        "        glob.glob('/kaggle/input/handwritten-signatures/Dataset_Signature_Final/Dataset/dataset4/forge/*.*')]\n",
        "\n",
        "train_data = []\n",
        "train_labels = []\n",
        "\n",
        "test_data = []\n",
        "test_labels = []\n",
        "\n",
        "for data in range(len(gen)):\n",
        "    for i in gen[data]:\n",
        "        if data == 3:\n",
        "            image = cv2.imread(i)\n",
        "            # Check if the image was loaded successfully\n",
        "            if image is not None:\n",
        "                image = cv2.cvtColor(image, cv2.COLOR_BGR2RGB)\n",
        "                image = cv2.resize(image, (224, 224))\n",
        "                test_data.append(image)\n",
        "                test_labels.append(0)\n",
        "            else:\n",
        "                print(f\"Failed to load image: {i}\")  # Print an error message if loading fails\n",
        "        else:\n",
        "            image = cv2.imread(i)\n",
        "            # Check if the image was loaded successfully\n",
        "            if image is not None:\n",
        "                image = cv2.cvtColor(image, cv2.COLOR_BGR2RGB)\n",
        "                image = cv2.resize(image, (224, 224))\n",
        "                train_data.append(image)\n",
        "                train_labels.append(0) #genuine = 0\n",
        "            else:\n",
        "                print(f\"Failed to load image: {i}\")  # Print an error message if loading fails\n",
        "\n",
        "for data in range(len(forg)):\n",
        "    for j in forg[data]:\n",
        "        if data == 3:\n",
        "            image = cv2.imread(j)\n",
        "            # Check if the image was loaded successfully\n",
        "            if image is not None:\n",
        "                image = cv2.cvtColor(image, cv2.COLOR_BGR2RGB)\n",
        "                image = cv2.resize(image, (224, 224))\n",
        "                test_data.append(image)\n",
        "                test_labels.append(1)\n",
        "            else:\n",
        "                print(f\"Failed to load image: {j}\")  # Print an error message if loading fails\n",
        "        else:\n",
        "            image = cv2.imread(j)\n",
        "            # Check if the image was loaded successfully\n",
        "            if image is not None:\n",
        "                image = cv2.cvtColor(image, cv2.COLOR_BGR2RGB)\n",
        "                image = cv2.resize(image, (224, 224))\n",
        "                train_data.append(image)\n",
        "                train_labels.append(1) #forged = 1\n",
        "            else:\n",
        "                print(f\"Failed to load image: {j}\")  # Print an error message if loading fails"
      ],
      "metadata": {
        "id": "Ewa86tXN2GfW"
      },
      "execution_count": 48,
      "outputs": []
    },
    {
      "cell_type": "code",
      "source": [
        "import numpy as np\n",
        "\n",
        "# ... (your existing code for loading and preprocessing images) ...\n",
        "\n",
        "# Convert test_data to a NumPy array and ensure it has the correct shape\n",
        "test_data = np.array(test_data)\n",
        "# Reshape if necessary, assuming your images are RGB\n",
        "if test_data.shape[-1] != 3:  # If the last dimension is not 3 (RGB)\n",
        "    test_data = test_data.reshape((*test_data.shape, 1)) # Add a channel dimension if not present\n",
        "    test_data = np.repeat(test_data, 3, axis=-1)  # Repeat the channel to create RGB\n",
        "\n",
        "\n",
        "pred = convnet.predict(test_data)\n",
        "pred"
      ],
      "metadata": {
        "execution": {
          "iopub.status.busy": "2023-04-25T14:53:56.356925Z",
          "iopub.execute_input": "2023-04-25T14:53:56.357312Z",
          "iopub.status.idle": "2023-04-25T14:53:59.207762Z",
          "shell.execute_reply.started": "2023-04-25T14:53:56.357273Z",
          "shell.execute_reply": "2023-04-25T14:53:59.206301Z"
        },
        "trusted": true,
        "id": "US-b9Uv7o-yg",
        "colab": {
          "base_uri": "https://localhost:8080/"
        },
        "outputId": "cc4c4b7e-0694-4027-d1ae-b2bb5262c2e9"
      },
      "execution_count": 50,
      "outputs": [
        {
          "output_type": "stream",
          "name": "stdout",
          "text": [
            "\u001b[1m6/6\u001b[0m \u001b[32m━━━━━━━━━━━━━━━━━━━━\u001b[0m\u001b[37m\u001b[0m \u001b[1m4s\u001b[0m 642ms/step\n"
          ]
        },
        {
          "output_type": "execute_result",
          "data": {
            "text/plain": [
              "array([[nan, nan, nan, ..., nan, nan, nan],\n",
              "       [nan, nan, nan, ..., nan, nan, nan],\n",
              "       [nan, nan, nan, ..., nan, nan, nan],\n",
              "       ...,\n",
              "       [nan, nan, nan, ..., nan, nan, nan],\n",
              "       [nan, nan, nan, ..., nan, nan, nan],\n",
              "       [nan, nan, nan, ..., nan, nan, nan]], dtype=float32)"
            ]
          },
          "metadata": {},
          "execution_count": 50
        }
      ]
    },
    {
      "cell_type": "code",
      "source": [
        "from sklearn.metrics import accuracy_score\n",
        "accuracy_score(pred.argmax(axis=1), test_labels)"
      ],
      "metadata": {
        "execution": {
          "iopub.status.busy": "2023-04-25T14:53:59.211781Z",
          "iopub.execute_input": "2023-04-25T14:53:59.212291Z",
          "iopub.status.idle": "2023-04-25T14:53:59.22172Z",
          "shell.execute_reply.started": "2023-04-25T14:53:59.21225Z",
          "shell.execute_reply": "2023-04-25T14:53:59.220462Z"
        },
        "trusted": true,
        "id": "RxMb-fgXo-yh",
        "colab": {
          "base_uri": "https://localhost:8080/"
        },
        "outputId": "a6e996de-3e50-4e4a-cf4d-c4be1aff98fa"
      },
      "execution_count": 51,
      "outputs": [
        {
          "output_type": "execute_result",
          "data": {
            "text/plain": [
              "0.5"
            ]
          },
          "metadata": {},
          "execution_count": 51
        }
      ]
    },
    {
      "cell_type": "markdown",
      "source": [
        "# CONVOLUTIONAL SIAMESE NEURAL NETWORK MODEL"
      ],
      "metadata": {
        "id": "P9V9M7jao-yh"
      }
    },
    {
      "cell_type": "code",
      "source": [
        "from keras.layers import Input, Conv2D, MaxPooling2D, Flatten, Dense, Lambda, Dropout\n",
        "from keras.models import Model, Sequential\n",
        "import tensorflow as tf # Import tensorflow\n",
        "import numpy as np\n",
        "\n",
        "# Define the input shape for the network\n",
        "input_shape = (224, 224, 3)\n",
        "\n",
        "# Define the left and right input tensors\n",
        "left_input = Input(input_shape)\n",
        "right_input = Input(input_shape)\n",
        "\n",
        "# Define the convolutional layers\n",
        "convnet = Sequential()\n",
        "convnet.add(Conv2D(64,(3,3),input_shape=input_shape,activation='relu'))\n",
        "convnet.add(MaxPooling2D(3,3))\n",
        "convnet.add(Conv2D(32,(3,3),activation='relu'))\n",
        "convnet.add(MaxPooling2D(2,2))\n",
        "convnet.add(Flatten())\n",
        "convnet.add(Dense(128,activation = 'relu'))\n",
        "convnet.add(Dropout(rate=0.3))\n",
        "\n",
        "# Create the left and right branches of the network\n",
        "encoded_l = convnet(left_input)\n",
        "encoded_r = convnet(right_input)\n",
        "\n",
        "# Define the distance metric function using Euclidean distance\n",
        "def euclidean_distance(vectors):\n",
        "    (featsA, featsB) = vectors\n",
        "    # Use tf.math.square and tf.math.sqrt for compatibility\n",
        "    squared_diff = tf.math.square(featsA - featsB)\n",
        "    return tf.math.sqrt(tf.math.reduce_sum(squared_diff, axis=1, keepdims=True))\n",
        "\n",
        "# Define the output layer\n",
        "# Specify the output_shape argument for the Lambda layer\n",
        "distance = Lambda(euclidean_distance, output_shape=(1,))([encoded_l, encoded_r])\n",
        "outputs = Dense(1, activation=\"sigmoid\")(distance)\n",
        "\n",
        "# Create the siamese network model\n",
        "model = Model(inputs=[left_input, right_input], outputs=outputs)\n",
        "\n",
        "# Compile the model\n",
        "model.compile(optimizer='adam', loss='binary_crossentropy', metrics=['accuracy'])\n",
        "\n",
        "# Prepare the input data\n",
        "train_data1 = np.random.rand(100, 224, 224, 3)\n",
        "train_data2 = np.random.rand(100, 224, 224, 3)\n",
        "train_labels = np.random.randint(2, size=(100, 1))\n",
        "\n",
        "# Train the model\n",
        "history = model.fit([train_data1, train_data2], train_labels, batch_size=16, epochs=10, validation_split=0.2)\n",
        "import matplotlib.pyplot as plt\n",
        "\n",
        "# Plot the training and validation accuracy\n",
        "plt.plot(history.history['accuracy'])\n",
        "plt.plot(history.history['val_accuracy'])\n",
        "plt.title('Model Accuracy')\n",
        "plt.ylabel('Accuracy')\n",
        "plt.xlabel('Epoch')\n",
        "plt.legend(['Train', 'Validation'], loc='upper left')\n",
        "plt.show()\n",
        "\n",
        "# Print the final training and validation accuracy\n",
        "print(\"Final Training Accuracy: {:.2f}%\".format(history.history['accuracy'][-1]*100))\n",
        "print(\"Final Validation Accuracy: {:.2f}%\".format(history.history['val_accuracy'][-1]*100))\n",
        "print(\"Training accuracy:\", history.history['accuracy'][-1])\n",
        "print(\"Validation accuracy:\", history.history['val_accuracy'][-1])"
      ],
      "metadata": {
        "execution": {
          "iopub.status.busy": "2023-04-25T14:53:59.224952Z",
          "iopub.execute_input": "2023-04-25T14:53:59.225718Z",
          "iopub.status.idle": "2023-04-25T14:55:23.150706Z",
          "shell.execute_reply.started": "2023-04-25T14:53:59.225677Z",
          "shell.execute_reply": "2023-04-25T14:55:23.149349Z"
        },
        "trusted": true,
        "id": "KtZqODyFo-yi",
        "colab": {
          "base_uri": "https://localhost:8080/",
          "height": 916
        },
        "outputId": "132d406e-d8e2-4150-d1cf-2d765c0ea36b"
      },
      "execution_count": 56,
      "outputs": [
        {
          "output_type": "stream",
          "name": "stdout",
          "text": [
            "Epoch 1/10\n",
            "\u001b[1m5/5\u001b[0m \u001b[32m━━━━━━━━━━━━━━━━━━━━\u001b[0m\u001b[37m\u001b[0m \u001b[1m23s\u001b[0m 3s/step - accuracy: 0.3243 - loss: nan - val_accuracy: 0.4500 - val_loss: nan\n",
            "Epoch 2/10\n",
            "\u001b[1m5/5\u001b[0m \u001b[32m━━━━━━━━━━━━━━━━━━━━\u001b[0m\u001b[37m\u001b[0m \u001b[1m17s\u001b[0m 3s/step - accuracy: 0.4476 - loss: nan - val_accuracy: 0.4500 - val_loss: nan\n",
            "Epoch 3/10\n",
            "\u001b[1m5/5\u001b[0m \u001b[32m━━━━━━━━━━━━━━━━━━━━\u001b[0m\u001b[37m\u001b[0m \u001b[1m21s\u001b[0m 3s/step - accuracy: 0.5023 - loss: nan - val_accuracy: 0.4500 - val_loss: nan\n",
            "Epoch 4/10\n",
            "\u001b[1m5/5\u001b[0m \u001b[32m━━━━━━━━━━━━━━━━━━━━\u001b[0m\u001b[37m\u001b[0m \u001b[1m20s\u001b[0m 3s/step - accuracy: 0.4259 - loss: nan - val_accuracy: 0.4500 - val_loss: nan\n",
            "Epoch 5/10\n",
            "\u001b[1m5/5\u001b[0m \u001b[32m━━━━━━━━━━━━━━━━━━━━\u001b[0m\u001b[37m\u001b[0m \u001b[1m12s\u001b[0m 3s/step - accuracy: 0.5031 - loss: nan - val_accuracy: 0.4500 - val_loss: nan\n",
            "Epoch 6/10\n",
            "\u001b[1m5/5\u001b[0m \u001b[32m━━━━━━━━━━━━━━━━━━━━\u001b[0m\u001b[37m\u001b[0m \u001b[1m22s\u001b[0m 3s/step - accuracy: 0.4519 - loss: nan - val_accuracy: 0.4500 - val_loss: nan\n",
            "Epoch 7/10\n",
            "\u001b[1m5/5\u001b[0m \u001b[32m━━━━━━━━━━━━━━━━━━━━\u001b[0m\u001b[37m\u001b[0m \u001b[1m19s\u001b[0m 3s/step - accuracy: 0.5109 - loss: nan - val_accuracy: 0.4500 - val_loss: nan\n",
            "Epoch 8/10\n",
            "\u001b[1m5/5\u001b[0m \u001b[32m━━━━━━━━━━━━━━━━━━━━\u001b[0m\u001b[37m\u001b[0m \u001b[1m24s\u001b[0m 3s/step - accuracy: 0.4684 - loss: nan - val_accuracy: 0.4500 - val_loss: nan\n",
            "Epoch 9/10\n",
            "\u001b[1m5/5\u001b[0m \u001b[32m━━━━━━━━━━━━━━━━━━━━\u001b[0m\u001b[37m\u001b[0m \u001b[1m18s\u001b[0m 3s/step - accuracy: 0.5448 - loss: nan - val_accuracy: 0.4500 - val_loss: nan\n",
            "Epoch 10/10\n",
            "\u001b[1m5/5\u001b[0m \u001b[32m━━━━━━━━━━━━━━━━━━━━\u001b[0m\u001b[37m\u001b[0m \u001b[1m19s\u001b[0m 2s/step - accuracy: 0.4771 - loss: nan - val_accuracy: 0.4500 - val_loss: nan\n"
          ]
        },
        {
          "output_type": "display_data",
          "data": {
            "text/plain": [
              "<Figure size 640x480 with 1 Axes>"
            ],
            "image/png": "[encoded data removed]"
          },
          "metadata": {}
        },
        {
          "output_type": "stream",
          "name": "stdout",
          "text": [
            "Final Training Accuracy: 46.25%\n",
            "Final Validation Accuracy: 45.00%\n",
            "Training accuracy: 0.4625000059604645\n",
            "Validation accuracy: 0.44999998807907104\n"
          ]
        }
      ]
    }
  ]
}